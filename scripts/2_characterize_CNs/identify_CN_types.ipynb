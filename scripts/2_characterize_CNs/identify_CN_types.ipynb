{
 "cells": [
  {
   "cell_type": "markdown",
   "metadata": {},
   "source": [
    "**Identify different CN types**\n",
    "- CNs that receive input from bifurcated sensory signal\n",
    "- CNs that receive input from nonbifurcated sensory signal\n",
    "    <br>as a result of:\n",
    "    1. innate and MBON input (CN)\n",
    "    2. PN and MBON input (innate/CN)\n",
    "    3. innate and KC input (MBON/CN)\n",
    "\n",
    "<img src=\"./diagrams/Bifurcated_CN_types-v2-01.png\" alt=\"\" style=\"width:400px;\"/>"
   ]
  },
  {
   "cell_type": "code",
   "execution_count": 2,
   "metadata": {},
   "outputs": [
    {
     "name": "stderr",
     "output_type": "stream",
     "text": [
      "INFO  : Global CATMAID instance set. Caching is ON. (pymaid)\n"
     ]
    },
    {
     "name": "stdout",
     "output_type": "stream",
     "text": [
      "Path to pairs list is: data/pairs/pairs-2022-02-14.csv\n"
     ]
    },
    {
     "name": "stderr",
     "output_type": "stream",
     "text": [
      "INFO  : Cached data used. Use `pymaid.clear_cache()` to clear. (pymaid)\n",
      "INFO  : Cached data used. Use `pymaid.clear_cache()` to clear. (pymaid)\n"
     ]
    }
   ],
   "source": [
    "import pymaid\n",
    "import contools\n",
    "from contools import Promat, Adjacency_matrix, Celltype_Analyzer, Celltype\n",
    "import numpy as np\n",
    "import pandas as pd\n",
    "\n",
    "from pymaid_creds import url, name, password, token\n",
    "from data_settings import pairs_path, data_date\n",
    "rm = pymaid.CatmaidInstance(url, token, name, password)\n",
    "\n",
    "pairs = Promat.get_pairs(pairs_path)\n",
    "\n",
    "threshold = 0.01\n",
    "edge_type = 'ad'\n",
    "edges_ad = pd.read_csv(f'data/edges_threshold/{edge_type}_pairwise-input-threshold-{threshold}_all-edges_{data_date}.csv', index_col=0)"
   ]
  },
  {
   "cell_type": "code",
   "execution_count": null,
   "metadata": {},
   "outputs": [],
   "source": [
    "# find all neurons downstream of KC-related PNs\n",
    "#######\n",
    "KC_PNs = Celltype_Analyzer.get_skids_from_meta_annotation('mw upstream KCs PN-types')\n",
    "MBON = pymaid.get_skids_by_annotation('mw MBON')\n",
    "\n",
    "# neurons to exclude from analysis\n",
    "pdiff = pymaid.get_skids_by_annotation('mw partially differentiated')\n",
    "KC = pymaid.get_skids_by_annotation('mw KC')\n",
    "MBIN = pymaid.get_skids_by_annotation('mw MBIN')\n",
    "exclude = list(np.unique(pdiff + KC + MBIN))\n",
    "\n",
    "ds_KC_PNs = Promat.downstream_multihop(edges=edges_ad, sources=KC_PNs, hops=1, exclude=exclude, exclude_unpaired=True, pairs=pairs)[0]\n",
    "ds_MBON = Promat.downstream_multihop(edges=edges_ad, sources=MBON, hops=1, exclude=exclude, exclude_unpaired=True, pairs=pairs)[0]\n",
    "ds_MBON = list(np.setdiff1d(ds_MBON, MBON))\n",
    "\n",
    "bifurcated_innate = ds_KC_PNs\n",
    "\n",
    "# find all neurons downstream of non-KC PNs (in same modalities)\n",
    "########\n",
    "modalities = ['mw olfactory', 'mw gustatory-external', 'mw gustatory-pharyngeal', \n",
    "                'mw thermo-cold', 'mw thermo-warm', 'mw visual']\n",
    "\n",
    "annots = [name + ' 2nd_order PN' for name in modalities]\n",
    "\n",
    "# identify PNs that don't bifurcate to KC, but in same modalities\n",
    "PNs = pymaid.get_skids_by_annotation(annots)\n",
    "innate_PNs = list(np.setdiff1d(PNs, KC_PNs))\n",
    "\n",
    "ds_innate_PNs = Promat.downstream_multihop(edges=edges_ad, sources=innate_PNs, hops=1, exclude=exclude, exclude_unpaired=True, pairs=pairs)[0]\n",
    "nonbifurcated_innate = list(np.setdiff1d(ds_innate_PNs, bifurcated_innate))"
   ]
  },
  {
   "cell_type": "code",
   "execution_count": 39,
   "metadata": {},
   "outputs": [],
   "source": [
    "# find all neurons downstream of PN and MBON (innate/CN)\n",
    "bifurcated_innate_CN = list(np.intersect1d(bifurcated_innate, ds_MBON))\n",
    "nonbifurcated_innate_CN = list(np.intersect1d(nonbifurcated_innate, ds_MBON))\n",
    "\n",
    "# find all neurons downstream of innate that are MBON (MBON/CN)\n",
    "bifurcated_MBON_CN = list(np.intersect1d(MBON, bifurcated_LH2N))\n",
    "nonbifurcated_MBON_CN = np.intersect1d(MBON, nonbifurcated_LH2N)\n",
    "nonbifurcated_MBON_CN = list(np.setdiff1d(nonbifurcated_MBON_CN, bifurcated_MBON_CN))\n",
    "\n",
    "# find all neurons downstream of innate and MBON (CN)\n",
    "bifurcated_LH2N = Promat.downstream_multihop(edges=edges_ad, sources=bifurcated_innate, hops=1, exclude=exclude, exclude_unpaired=True, pairs=pairs)[0]\n",
    "bifurcated_CN = np.intersect1d(bifurcated_LH2N, ds_MBON)\n",
    "bifurcated_CN = list(np.setdiff1d(bifurcated_CN, nonbifurcated_innate_CN + bifurcated_innate_CN + bifurcated_MBON_CN + nonbifurcated_MBON_CN))\n",
    "\n",
    "nonbifurcated_LH2N = Promat.downstream_multihop(edges=edges_ad, sources=nonbifurcated_innate, hops=1, exclude=exclude, exclude_unpaired=True, pairs=pairs)[0]\n",
    "nonbifurcated_CN = np.intersect1d(nonbifurcated_LH2N, ds_MBON)\n",
    "nonbifurcated_CN = list(np.setdiff1d(nonbifurcated_CN, bifurcated_CN + bifurcated_innate_CN + bifurcated_MBON_CN))\n"
   ]
  },
  {
   "cell_type": "code",
   "execution_count": 40,
   "metadata": {},
   "outputs": [
    {
     "name": "stderr",
     "output_type": "stream",
     "text": [
      "/Users/mwinding/anaconda3/envs/larva_learning_env/lib/python3.9/site-packages/contools/celltype.py:304: PerformanceWarning: indexing past lexsort depth may impact performance.\n",
      "  list(data.loc[index].id)) for index in unique_indices]\n"
     ]
    },
    {
     "data": {
      "image/png": "[encoded data removed]",
      "text/plain": [
       "<Figure size 448x384 with 4 Axes>"
      ]
     },
     "metadata": {
      "needs_background": "light"
     },
     "output_type": "display_data"
    }
   ],
   "source": [
    "# celltype analysis\n",
    "\n",
    "names = ['bifurcated_CN', 'nonbifurcated_CN', 'bifurcated_innate-CN', 'nonbifurcated_innate-CN', 'bifurcated_MBON-CN', 'nonbifurcated_MBON-CN']\n",
    "skids = [bifurcated_CN, nonbifurcated_CN, bifurcated_innate_CN, nonbifurcated_innate_CN, bifurcated_MBON_CN, nonbifurcated_MBON_CN]\n",
    "\n",
    "CN_types = [Celltype(name=names[i], skids=skids[i]) for i in range(len(names))]\n",
    "\n",
    "CN_types_cta = Celltype_Analyzer(CN_types)\n",
    "_ = CN_types_cta.upset_members(plot_upset=True, path='plots/CN-types')"
   ]
  },
  {
   "cell_type": "code",
   "execution_count": 41,
   "metadata": {},
   "outputs": [
    {
     "name": "stderr",
     "output_type": "stream",
     "text": [
      "INFO  : Cached data used. Use `pymaid.clear_cache()` to clear. (pymaid)\n",
      "INFO  : Cached data used. Use `pymaid.clear_cache()` to clear. (pymaid)\n"
     ]
    },
    {
     "name": "stdout",
     "output_type": "stream",
     "text": [
      "783\n",
      "254\n",
      "252\n"
     ]
    }
   ],
   "source": [
    "LHN_new = bifurcated_innate + nonbifurcated_innate\n",
    "print(len(LHN_new))\n",
    "\n",
    "LHN = pymaid.get_skids_by_annotation('mw LHN')\n",
    "print(len(LHN))\n",
    "\n",
    "print(len(np.intersect1d(LHN_new, LHN)))"
   ]
  }
 ],
 "metadata": {
  "interpreter": {
   "hash": "e3d16f5e1fe5629d249128eb53820aa0800420930e536b2f27fa9bbb33aff6d9"
  },
  "kernelspec": {
   "display_name": "Python 3.9.7 ('larva_learning_env')",
   "language": "python",
   "name": "python3"
  },
  "language_info": {
   "name": "python",
   "version": "3.9.7"
  },
  "orig_nbformat": 4
 },
 "nbformat": 4,
 "nbformat_minor": 2
}
